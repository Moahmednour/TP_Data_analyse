{
 "cells": [
  {
   "cell_type": "markdown",
   "metadata": {},
   "source": [
    "Exercice 5 Logic"
   ]
  },
  {
   "cell_type": "code",
   "execution_count": 4,
   "metadata": {},
   "outputs": [
    {
     "name": "stdout",
     "output_type": "stream",
     "text": [
      "True\n",
      "False\n"
     ]
    }
   ],
   "source": [
    "def est_palyndrome(mot):\n",
    "\n",
    "    liste_caracteres_mot = list(mot)\n",
    "    liste_inverse = liste_caracteres_mot[::-1]\n",
    "    mot_inverse = \"\".join(liste_inverse)\n",
    "\n",
    "    return mot == mot_inverse\n",
    "\n",
    "print(est_palyndrome(\"sradars\"))  \n",
    "print(est_palyndrome(\"python\"))   "
   ]
  },
  {
   "cell_type": "markdown",
   "metadata": {},
   "source": [
    "Exercice 5 avec Input"
   ]
  },
  {
   "cell_type": "code",
   "execution_count": 5,
   "metadata": {},
   "outputs": [
    {
     "name": "stdout",
     "output_type": "stream",
     "text": [
      "'ta' n'est pas un palindrome.\n"
     ]
    }
   ],
   "source": [
    "def est_palindrome(chaine):\n",
    "    \n",
    "    chaine = chaine.replace(\" \", \"\").lower()  \n",
    "    liste_caracteres_mot = list(chaine)\n",
    "    liste_inverse = liste_caracteres_mot[::-1]\n",
    "    chaine_inverse = \"\".join(liste_inverse)\n",
    "\n",
    "    return chaine == chaine_inverse\n",
    "   \n",
    "mot = input(\"Veuillez saisir un mot pour vérifier s'il est un palindrome : \")\n",
    "\n",
    "if est_palindrome(mot):\n",
    "    print(f\"'{mot.lower()}' est un palindrome.\")\n",
    "else:\n",
    "    print(f\"'{mot.lower()}' n'est pas un palindrome.\")\n"
   ]
  },
  {
   "cell_type": "markdown",
   "metadata": {},
   "source": [
    "Exercice 6"
   ]
  },
  {
   "cell_type": "code",
   "execution_count": 6,
   "metadata": {},
   "outputs": [
    {
     "name": "stdout",
     "output_type": "stream",
     "text": [
      "le nombre de palindromes est 2 :\n",
      "tot\n",
      "ici\n"
     ]
    }
   ],
   "source": [
    "def is_palindrome(mot):\n",
    "    return mot == mot[::-1]\n",
    "\n",
    "def palindromes(filename):\n",
    "    with open(filename, 'r') as f:\n",
    "        text = f.readlines()\n",
    "        palindromes = [mot.replace(\"\\n\",\"\") \n",
    "        for mot in text\n",
    "         if is_palindrome(mot.replace(\"\\n\",\"\"))]\n",
    "    return palindromes\n",
    "\n",
    "if __name__ == '__main__':\n",
    "    palindromes = palindromes(\"dico.txt\")\n",
    "\n",
    "    print(\"le nombre de palindromes est\",len(palindromes),\":\")\n",
    "for palindrome in palindromes:\n",
    "    print(palindrome)"
   ]
  },
  {
   "cell_type": "markdown",
   "metadata": {},
   "source": [
    "Exercice 7"
   ]
  },
  {
   "cell_type": "code",
   "execution_count": 3,
   "metadata": {},
   "outputs": [
    {
     "name": "stdout",
     "output_type": "stream",
     "text": [
      "ADN principal : tatatata\n",
      "Séquence à vérifier: ta\n",
      "La séquence \"ta\" est présente dans 50.0% de l'ADN principal.\n"
     ]
    }
   ],
   "source": [
    "def adn_valide(chaine_adn):\n",
    "    bases_valides = ['a', 't', 'g', 'c']\n",
    "    return all(base in bases_valides for base in chaine_adn) and len(chaine_adn) > 0\n",
    "\n",
    "def value_input(prompt):\n",
    "    while True:\n",
    "        input_adn = input(prompt).lower()\n",
    "        if adn_valide(input_adn):\n",
    "            return input_adn\n",
    "        else:\n",
    "            print(\"ADN invalide. Seules les lettres 'a', 't', 'g', et 'c' sont autorisées.\")\n",
    "\n",
    "def calculer_proportion(adn, sequence):\n",
    "    if len(sequence) == 0:\n",
    "        return 0\n",
    "    return adn.count(sequence) / len(adn) * 100\n",
    "\n",
    "if __name__ == '__main__':\n",
    "\n",
    "    adn = value_input(\"Entrez une chaîne d'ADN: \")\n",
    "    sequence_a_verifier = value_input(\"Entrez une séquence d'ADN à vérifier: \")\n",
    "\n",
    "    print(f\"ADN principal : {adn}\")\n",
    "    print(f\"Séquence à vérifier: {sequence_a_verifier}\")\n",
    "\n",
    "    valeur_proportion = calculer_proportion(adn, sequence_a_verifier)\n",
    "    print(f\"La séquence \\\"{sequence_a_verifier}\\\" est présente dans {valeur_proportion}% de l'ADN principal.\")\n"
   ]
  },
  {
   "cell_type": "markdown",
   "metadata": {},
   "source": [
    "JEU DE CARTE"
   ]
  },
  {
   "cell_type": "code",
   "execution_count": 3,
   "metadata": {},
   "outputs": [],
   "source": []
  },
  {
   "cell_type": "code",
   "execution_count": 14,
   "metadata": {},
   "outputs": [
    {
     "name": "stdout",
     "output_type": "stream",
     "text": [
      "\n",
      " Jeu mélangé:\n",
      "4 de Coeur\n",
      "Roi de Coeur\n",
      "4 de Trèfle\n",
      "8 de Trèfle\n",
      "8 de Coeur\n",
      "Roi de Pique\n",
      "4 de Pique\n",
      "8 de Carreau\n",
      "3 de Coeur\n",
      "10 de Pique\n",
      "Valet de Trèfle\n",
      "2 de Coeur\n",
      "9 de Trèfle\n",
      "5 de Carreau\n",
      "3 de Pique\n",
      "6 de Carreau\n",
      "6 de Coeur\n",
      "2 de Carreau\n",
      "8 de Pique\n",
      "Valet de Pique\n",
      "9 de Pique\n",
      "Valet de Carreau\n",
      "3 de Trèfle\n",
      "Roi de Trèfle\n",
      "7 de Trèfle\n",
      "Valet de Coeur\n",
      "As de Pique\n",
      "7 de Coeur\n",
      "Dame de Trèfle\n",
      "9 de Carreau\n",
      "Dame de Pique\n",
      "As de Trèfle\n",
      "As de Carreau\n",
      "Dame de Coeur\n",
      "4 de Carreau\n",
      "9 de Coeur\n",
      "5 de Coeur\n",
      "3 de Carreau\n",
      "2 de Trèfle\n",
      "7 de Pique\n",
      "As de Coeur\n",
      "6 de Pique\n",
      "10 de Trèfle\n",
      "10 de Carreau\n",
      "Dame de Carreau\n",
      "5 de Pique\n",
      "7 de Carreau\n",
      "2 de Pique\n",
      "6 de Trèfle\n",
      "5 de Trèfle\n",
      "Roi de Carreau\n",
      "10 de Coeur\n",
      "\n",
      " Carte tirée: 10 de Coeur\n",
      "\n",
      " Jeu après extraction:\n",
      "4 de Coeur\n",
      "Roi de Coeur\n",
      "4 de Trèfle\n",
      "8 de Trèfle\n",
      "8 de Coeur\n",
      "Roi de Pique\n",
      "4 de Pique\n",
      "8 de Carreau\n",
      "3 de Coeur\n",
      "10 de Pique\n",
      "Valet de Trèfle\n",
      "2 de Coeur\n",
      "9 de Trèfle\n",
      "5 de Carreau\n",
      "3 de Pique\n",
      "6 de Carreau\n",
      "6 de Coeur\n",
      "2 de Carreau\n",
      "8 de Pique\n",
      "Valet de Pique\n",
      "9 de Pique\n",
      "Valet de Carreau\n",
      "3 de Trèfle\n",
      "Roi de Trèfle\n",
      "7 de Trèfle\n",
      "Valet de Coeur\n",
      "As de Pique\n",
      "7 de Coeur\n",
      "Dame de Trèfle\n",
      "9 de Carreau\n",
      "Dame de Pique\n",
      "As de Trèfle\n",
      "As de Carreau\n",
      "Dame de Coeur\n",
      "4 de Carreau\n",
      "9 de Coeur\n",
      "5 de Coeur\n",
      "3 de Carreau\n",
      "2 de Trèfle\n",
      "7 de Pique\n",
      "As de Coeur\n",
      "6 de Pique\n",
      "10 de Trèfle\n",
      "10 de Carreau\n",
      "Dame de Carreau\n",
      "5 de Pique\n",
      "7 de Carreau\n",
      "2 de Pique\n",
      "6 de Trèfle\n",
      "5 de Trèfle\n",
      "Roi de Carreau\n"
     ]
    }
   ],
   "source": [
    "import random\n",
    "class CCarte:\n",
    "    def __init__(self, valeur, forme):\n",
    "        self.valeur = valeur\n",
    "        self.forme = forme\n",
    "\n",
    "    def __str__(self):\n",
    "        return f\"{self.valeur} de {self.forme}\"\n",
    "\n",
    "\n",
    "class CJeuDeCartes:\n",
    "    formes = [\"Coeur\", \"Carreau\", \"Pique\", \"Trèfle\"]\n",
    "    valeurs = [\"As\", \"2\", \"3\", \"4\", \"5\", \"6\", \"7\",\n",
    "               \"8\", \"9\", \"10\", \"Valet\", \"Dame\", \"Roi\"]\n",
    "\n",
    "    def __init__(self):\n",
    "        self.cartes = [CCarte(valeur, forme)\n",
    "                       for forme in CJeuDeCartes.formes for valeur in CJeuDeCartes.valeurs]\n",
    "\n",
    "    def nom_carte(self, carte):\n",
    "        return str(carte)\n",
    "\n",
    "    def battre(self):\n",
    "        random.shuffle(self.cartes)\n",
    "\n",
    "    def afficher(self):\n",
    "        for carte in self.cartes:\n",
    "            print(self.nom_carte(carte))\n",
    "\n",
    "    def tirer(self):\n",
    "        return self.cartes.pop()\n",
    "\n",
    "\n",
    "if __name__ == \"__main__\":\n",
    "\n",
    "    jeu = CJeuDeCartes()\n",
    "    # print(\"Jeu original:\")\n",
    "    # jeu.afficher()\n",
    "\n",
    "    jeu.battre()\n",
    "    print(\"\\n Jeu mélangé:\")\n",
    "    jeu.afficher()\n",
    "\n",
    "    carte = jeu.tirer()\n",
    "    print(f\"\\n Carte tirée: {jeu.nom_carte(carte)}\")\n",
    "    print(\"\\n Jeu après extraction:\")\n",
    "    jeu.afficher()\n"
   ]
  }
 ],
 "metadata": {
  "kernelspec": {
   "display_name": "Python 3",
   "language": "python",
   "name": "python3"
  },
  "language_info": {
   "codemirror_mode": {
    "name": "ipython",
    "version": 3
   },
   "file_extension": ".py",
   "mimetype": "text/x-python",
   "name": "python",
   "nbconvert_exporter": "python",
   "pygments_lexer": "ipython3",
   "version": "3.10.2"
  }
 },
 "nbformat": 4,
 "nbformat_minor": 2
}
