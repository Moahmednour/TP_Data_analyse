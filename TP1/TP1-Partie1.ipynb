{
 "cells": [
  {
   "cell_type": "code",
   "execution_count": null,
   "metadata": {
    "tags": [
     "Exercice 1"
    ]
   },
   "outputs": [],
   "source": [
    "Exercice 1"
   ]
  },
  {
   "cell_type": "code",
   "execution_count": 2,
   "metadata": {},
   "outputs": [
    {
     "name": "stdout",
     "output_type": "stream",
     "text": [
      "Ce nombre est impair, mais est multiple de 3\n"
     ]
    }
   ],
   "source": [
    "#multiple3\n",
    "\n",
    "nombre = int(input(\"Entrez un nombre : \"))\n",
    "if nombre % 2 == 0:\n",
    "    print(\"Ce nombre est pair\")\n",
    "elif nombre % 3 == 0:\n",
    "    print(\"Ce nombre est impair, mais est multiple de 3\")\n",
    "else:\n",
    "    print(\"Ce nombre n’est ni pair ni multiple de 3\")\n"
   ]
  },
  {
   "cell_type": "code",
   "execution_count": null,
   "metadata": {
    "tags": [
     "Exercice 2"
    ]
   },
   "outputs": [],
   "source": []
  },
  {
   "cell_type": "code",
   "execution_count": 47,
   "metadata": {},
   "outputs": [
    {
     "name": "stdout",
     "output_type": "stream",
     "text": [
      "Liste d'animaux : ['lapin', 'chat', 'chien', 'chiot', 'dragon', 'ornithorynque']\n"
     ]
    }
   ],
   "source": [
    "#1.\tÉcrire un programme liste_animaux.py, qui initialise la liste et qui affiche l’ensemble des éléments.\n",
    "liste_animaux = [\"lapin\", \"chat\", \"chien\", \"chiot\", \"dragon\", \"ornithorynque\"]\n",
    "print(\"Liste d'animaux :\", liste_animaux)"
   ]
  },
  {
   "cell_type": "code",
   "execution_count": 48,
   "metadata": {},
   "outputs": [
    {
     "name": "stdout",
     "output_type": "stream",
     "text": [
      "Liste inversée : ['ornithorynque', 'dragon', 'chiot', 'chien', 'chat', 'lapin']\n"
     ]
    }
   ],
   "source": [
    "# 2.\tAfficher la liste de manière inversée.\n",
    "liste_animaux_inversee = liste_animaux[::-1]\n",
    "print(\"Liste inversée :\", liste_animaux_inversee)"
   ]
  },
  {
   "cell_type": "code",
   "execution_count": 50,
   "metadata": {},
   "outputs": [
    {
     "name": "stdout",
     "output_type": "stream",
     "text": [
      "Liste triée : ['chat', 'chien', 'chiot', 'dragon', 'lapin', 'ornithorynque']\n"
     ]
    }
   ],
   "source": [
    "#3.\tAfficher la liste de manière triée.\n",
    "liste_triee = sorted(liste_animaux)\n",
    "print(\"Liste triée :\", liste_triee)"
   ]
  },
  {
   "cell_type": "code",
   "execution_count": 52,
   "metadata": {},
   "outputs": [
    {
     "name": "stdout",
     "output_type": "stream",
     "text": [
      "'elephant' already exists in the list.\n"
     ]
    }
   ],
   "source": [
    "#4.\tAjouter (append) l’élément troll dans la liste, puis supprimer l’ensemble des animaux domestiques.    \n",
    "\n",
    "element_a_ajouter = \"elephant\"\n",
    "    #Ajouter un element if exist dont add it\n",
    "if element_a_ajouter not in liste_animaux:\n",
    "    liste_animaux.append(element_a_ajouter)\n",
    "else:\n",
    "    print(f\"'{element_a_ajouter}' already exists in the list.\")\n",
    "\n",
    "animaux_domestiques = [\"chat\", \"chien\",\"lapin\",]\n",
    "\n",
    "for animal in animaux_domestiques:\n",
    "    if animal in liste_animaux:\n",
    "        liste_animaux.remove(animal)\n"
   ]
  },
  {
   "cell_type": "code",
   "execution_count": null,
   "metadata": {},
   "outputs": [],
   "source": [
    "#Remove an element from the list if exist\n",
    "element_a_supprimer = \"dragon\"\n",
    "\n",
    "if element_a_supprimer in liste_animaux:\n",
    "    liste_animaux.remove(element_a_supprimer)\n",
    "else:\n",
    "    print(f\"'{element_a_supprimer}' does not exist in the list.\")"
   ]
  },
  {
   "cell_type": "code",
   "execution_count": 54,
   "metadata": {},
   "outputs": [
    {
     "name": "stdout",
     "output_type": "stream",
     "text": [
      "Liste après ajout de troll et suppression des animaux domestiques : ['chiot', 'dragon', 'ornithorynque', 'elephant']\n"
     ]
    }
   ],
   "source": [
    "print(\"Liste après ajout de troll et suppression des animaux domestiques :\", liste_animaux)"
   ]
  },
  {
   "cell_type": "code",
   "execution_count": 55,
   "metadata": {},
   "outputs": [
    {
     "name": "stdout",
     "output_type": "stream",
     "text": [
      "chiot 5 caractères.\n",
      "dragon 6 caractères.\n",
      "ornithorynque 13 caractères.\n",
      "elephant 8 caractères.\n"
     ]
    }
   ],
   "source": [
    "#5.\tÉcrire un programme liste_chaine.py, qui donne le nombre de caractères de chaque élément de la liste\n",
    "for animal in liste_animaux:\n",
    "    print(f\"{animal} {len(animal)} caractères.\")"
   ]
  },
  {
   "cell_type": "code",
   "execution_count": null,
   "metadata": {
    "tags": [
     "Exercice 3"
    ]
   },
   "outputs": [],
   "source": []
  },
  {
   "cell_type": "code",
   "execution_count": 56,
   "metadata": {},
   "outputs": [
    {
     "name": "stdout",
     "output_type": "stream",
     "text": [
      "Vous avez Gagné , Liste de valeurs générées aléatoirement:  [1, 10, 10, 8, 4, 3, 3, 6, 1, 7]\n"
     ]
    }
   ],
   "source": [
    "#!/usr/bin/python3\n",
    "# -*- coding: UTF-8 -*-\n",
    "import random\n",
    "\n",
    "# Initialisation d'une liste de 10 éléments\n",
    "tableau_jeu = []\n",
    "for i in range(0, 10):\n",
    "    tableau_jeu.append(random.randint(1, 10))\n",
    "\n",
    "cherchee = int(input(\"Entrez une valeur à chercher : \"))\n",
    "\n",
    "# Recherche séquentielle\n",
    "founded = False\n",
    "for valeur in tableau_jeu:\n",
    "    if valeur == cherchee:\n",
    "        founded = True\n",
    "        break\n",
    "\n",
    "if founded:\n",
    "    print(\"Vous avez Gagné , Liste de valeurs générées aléatoirement: \", tableau_jeu)\n",
    "else:\n",
    "    print(\"Vous avez Perdu, Liste de valeurs générées aléatoirement :\", tableau_jeu)\n",
    "\n"
   ]
  },
  {
   "cell_type": "code",
   "execution_count": 61,
   "metadata": {},
   "outputs": [
    {
     "name": "stdout",
     "output_type": "stream",
     "text": [
      "Vous avez Gagné , Liste de valeurs générées aléatoirement:  [1, 2, 2, 5, 5, 6, 6, 7, 10, 10]\n"
     ]
    }
   ],
   "source": [
    "#!/usr/bin/python3\n",
    "# -*- coding: UTF-8 -*-\n",
    "import random\n",
    "\n",
    "# Initialisation d'une liste de 10 éléments triés\n",
    "tableau_jeu = []\n",
    "for i in range(0, 10):\n",
    "    tableau_jeu.append(random.randint(1, 10))\n",
    "\n",
    "tableau_jeu.sort()\n",
    "\n",
    "cherchee = int(input(\"Entrez une valeur à chercher : \"))\n",
    "\n",
    "trouve = False\n",
    "for valeur in tableau_jeu:\n",
    "    if valeur == cherchee:\n",
    "        trouve = True\n",
    "        break\n",
    "    elif valeur > cherchee:\n",
    "        break\n",
    "\n",
    "if trouve:\n",
    "    print(\"Vous avez Gagné , Liste de valeurs générées aléatoirement: \", tableau_jeu)\n",
    "else:\n",
    "    print(\"Vous avez Perdu, Liste de valeurs générées aléatoirement :\", tableau_jeu)\n"
   ]
  },
  {
   "cell_type": "code",
   "execution_count": null,
   "metadata": {
    "tags": [
     "Exercice 4"
    ]
   },
   "outputs": [],
   "source": []
  },
  {
   "cell_type": "code",
   "execution_count": 7,
   "metadata": {},
   "outputs": [
    {
     "name": "stdout",
     "output_type": "stream",
     "text": [
      "les cartes ['As', '2', '3', '4', '5', '6', '7', '8', '9', '10', 'Valet', 'Dame', 'Roi']\n",
      "les types cartes ['Coeur', 'Carreau', 'Trèfle', 'Pique']\n",
      "Liste 1 :\n",
      "As de Coeur\n",
      "As de Carreau\n",
      "As de Trèfle\n",
      "As de Pique\n",
      "2 de Coeur\n",
      "2 de Carreau\n",
      "2 de Trèfle\n",
      "2 de Pique\n",
      "3 de Coeur\n",
      "3 de Carreau\n",
      "3 de Trèfle\n",
      "3 de Pique\n",
      "4 de Coeur\n",
      "4 de Carreau\n",
      "4 de Trèfle\n",
      "4 de Pique\n",
      "5 de Coeur\n",
      "5 de Carreau\n",
      "5 de Trèfle\n",
      "5 de Pique\n",
      "6 de Coeur\n",
      "6 de Carreau\n",
      "6 de Trèfle\n",
      "6 de Pique\n",
      "7 de Coeur\n",
      "7 de Carreau\n",
      "7 de Trèfle\n",
      "7 de Pique\n",
      "8 de Coeur\n",
      "8 de Carreau\n",
      "8 de Trèfle\n",
      "8 de Pique\n",
      "9 de Coeur\n",
      "9 de Carreau\n",
      "9 de Trèfle\n",
      "9 de Pique\n",
      "10 de Coeur\n",
      "10 de Carreau\n",
      "10 de Trèfle\n",
      "10 de Pique\n",
      "Valet de Coeur\n",
      "Valet de Carreau\n",
      "Valet de Trèfle\n",
      "Valet de Pique\n",
      "Dame de Coeur\n",
      "Dame de Carreau\n",
      "Dame de Trèfle\n",
      "Dame de Pique\n",
      "Roi de Coeur\n",
      "Roi de Carreau\n",
      "Roi de Trèfle\n",
      "Roi de Pique\n",
      "Liste 2 :\n",
      "As de Coeur\n",
      "As de Carreau\n",
      "As de Trèfle\n",
      "As de Pique\n",
      "2 de Coeur\n",
      "2 de Carreau\n",
      "2 de Trèfle\n",
      "2 de Pique\n",
      "3 de Coeur\n",
      "3 de Carreau\n",
      "3 de Trèfle\n",
      "3 de Pique\n",
      "4 de Coeur\n",
      "4 de Carreau\n",
      "4 de Trèfle\n",
      "4 de Pique\n",
      "5 de Coeur\n",
      "5 de Carreau\n",
      "5 de Trèfle\n",
      "5 de Pique\n",
      "6 de Coeur\n",
      "6 de Carreau\n",
      "6 de Trèfle\n",
      "6 de Pique\n",
      "7 de Coeur\n",
      "7 de Carreau\n",
      "7 de Trèfle\n",
      "7 de Pique\n",
      "8 de Coeur\n",
      "8 de Carreau\n",
      "8 de Trèfle\n",
      "8 de Pique\n",
      "9 de Coeur\n",
      "9 de Carreau\n",
      "9 de Trèfle\n",
      "9 de Pique\n",
      "10 de Coeur\n",
      "10 de Carreau\n",
      "10 de Trèfle\n",
      "10 de Pique\n",
      "Valet de Coeur\n",
      "Valet de Carreau\n",
      "Valet de Trèfle\n",
      "Valet de Pique\n",
      "Dame de Coeur\n",
      "Dame de Carreau\n",
      "Dame de Trèfle\n",
      "Dame de Pique\n",
      "Roi de Coeur\n",
      "Roi de Carreau\n",
      "Roi de Trèfle\n",
      "Roi de Pique\n"
     ]
    }
   ],
   "source": [
    "#!/usr/bin/python3\n",
    "# -*- coding: UTF-8 -*-\n",
    "import random\n",
    "\n",
    "#liste des cartes\n",
    "cartes = [\"As\", \"2\", \"3\", \"4\", \"5\", \"6\", \"7\",\n",
    "          \"8\", \"9\", \"10\", \"Valet\", \"Dame\", \"Roi\"]\n",
    "#liste des types de cartes\n",
    "type_carte = [\"Coeur\", \"Carreau\", \"Trèfle\", \"Pique\"]\n",
    "\n",
    "#Contrôler le contenu de vos 2 listes en les affichant\n",
    "print(\"les cartes\",cartes)\n",
    "print(\"les types cartes\",type_carte)\n",
    "\n",
    "#crée deux listes avec l’ensemble des cartes\n",
    "\n",
    "liste_1 = [\n",
    "    f\"{valeur} de {ensemble}\" for valeur in cartes for ensemble in type_carte]\n",
    "liste_2 = [\n",
    "    f\"{valeur} de {ensemble}\" for valeur in cartes for ensemble in type_carte]\n",
    "\n",
    "#Affichag de deux listes \n",
    "print(\"Liste 1 :\")\n",
    "for carte in liste_1:\n",
    "    print(carte)\n",
    "\n",
    "print(\"Liste 2 :\")\n",
    "for carte in liste_2:\n",
    "    print(carte)\n",
    "    \n",
    "\n"
   ]
  },
  {
   "cell_type": "code",
   "execution_count": 8,
   "metadata": {},
   "outputs": [
    {
     "name": "stdout",
     "output_type": "stream",
     "text": [
      "Liste 1 :\n",
      "3 de Trèfle\n",
      "Valet de Pique\n",
      "Roi de Carreau\n",
      "3 de Coeur\n",
      "Dame de Coeur\n",
      "4 de Carreau\n",
      "9 de Coeur\n",
      "Dame de Trèfle\n",
      "5 de Pique\n",
      "9 de Trèfle\n",
      "Liste 2 :\n",
      "3 de Coeur\n",
      "5 de Carreau\n",
      "7 de Trèfle\n",
      "Dame de Pique\n",
      "7 de Carreau\n",
      "10 de Pique\n",
      "2 de Trèfle\n",
      "8 de Trèfle\n",
      "4 de Pique\n",
      "7 de Coeur\n"
     ]
    }
   ],
   "source": [
    "#On tire 10 cartes au hasard dans chaque jeu. Faire afficher les 10 cartes tirées pour chacun des 2 jeux.\n",
    "print(\"Liste 1 :\")\n",
    "for i in range(10):\n",
    "    print(liste_1.pop(random.randint(0, len(liste_1) - 1)))\n",
    "\n",
    "print(\"Liste 2 :\")\n",
    "for i in range(10):\n",
    "    print(liste_2.pop(random.randint(0, len(liste_2) - 1)))\n"
   ]
  },
  {
   "cell_type": "code",
   "execution_count": 9,
   "metadata": {},
   "outputs": [
    {
     "name": "stdout",
     "output_type": "stream",
     "text": [
      "\n",
      "Cartes identiques dans les deux tirages :\n",
      "Roi de Pique\n",
      "5 de Coeur\n",
      "2 de Coeur\n",
      "6 de Carreau\n",
      "8 de Pique\n",
      "Valet de Coeur\n",
      "2 de Carreau\n",
      "As de Coeur\n",
      "5 de Trèfle\n",
      "Roi de Coeur\n",
      "4 de Coeur\n",
      "4 de Trèfle\n",
      "As de Pique\n",
      "3 de Carreau\n",
      "As de Trèfle\n",
      "Dame de Carreau\n",
      "10 de Carreau\n",
      "9 de Pique\n",
      "Valet de Carreau\n",
      "10 de Coeur\n",
      "10 de Trèfle\n",
      "6 de Trèfle\n",
      "3 de Pique\n",
      "As de Carreau\n",
      "8 de Coeur\n",
      "9 de Carreau\n",
      "8 de Carreau\n",
      "2 de Pique\n",
      "6 de Coeur\n",
      "7 de Pique\n",
      "Roi de Trèfle\n",
      "Valet de Trèfle\n",
      "6 de Pique\n"
     ]
    }
   ],
   "source": [
    "# Trouver les cartes identiques dans les 2 tirages\n",
    "cartes_identiques = set(liste_1) & set(liste_2)\n",
    "print(\"\\nCartes identiques dans les deux tirages :\")\n",
    "for carte in cartes_identiques:\n",
    "    print(carte)"
   ]
  }
 ],
 "metadata": {
  "kernelspec": {
   "display_name": "Python 3",
   "language": "python",
   "name": "python3"
  },
  "language_info": {
   "codemirror_mode": {
    "name": "ipython",
    "version": 3
   },
   "file_extension": ".py",
   "mimetype": "text/x-python",
   "name": "python",
   "nbconvert_exporter": "python",
   "pygments_lexer": "ipython3",
   "version": "3.10.2"
  },
  "orig_nbformat": 4
 },
 "nbformat": 4,
 "nbformat_minor": 2
}
