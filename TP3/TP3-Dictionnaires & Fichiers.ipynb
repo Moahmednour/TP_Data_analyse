{
 "cells": [
  {
   "cell_type": "markdown",
   "metadata": {},
   "source": [
    "Quelques pistes et recommandations:"
   ]
  },
  {
   "cell_type": "code",
   "execution_count": 11,
   "metadata": {},
   "outputs": [
    {
     "name": "stdout",
     "output_type": "stream",
     "text": [
      "{36: 'Indre', 30: 'Gard', 75: 'Paris'}\n",
      "Indre\n"
     ]
    }
   ],
   "source": [
    "import pickle\n",
    "\n",
    "# création d'un dictionnaire\n",
    "departement = {36: 'Indre', 30: 'Gard', 75: 'Paris'}\n",
    "\n",
    "# enregistrement du dictionnaire dans un fichier\n",
    "Fichier = open('data.txt', 'wb')\n",
    "pickle.dump(departement, Fichier)    # sérialisation\n",
    "Fichier.close()\n",
    "#\n",
    "# Unpickling\n",
    "\n",
    "# récupération du dictionnaire\n",
    "Fichier = open('data.txt', 'rb')\n",
    "Dept = pickle.load(Fichier)    # désérialisation\n",
    "Fichier.close()\n",
    "\n",
    "print(Dept)\n",
    "print(Dept[36])\n"
   ]
  },
  {
   "cell_type": "markdown",
   "metadata": {},
   "source": [
    "Exercice 1 :"
   ]
  },
  {
   "cell_type": "code",
   "execution_count": 79,
   "metadata": {},
   "outputs": [
    {
     "name": "stdout",
     "output_type": "stream",
     "text": [
      "Connexion réussie !\n",
      "{'admin': 'admin', 'user1': 'user1', 'user2': 'user2'}\n"
     ]
    }
   ],
   "source": [
    "import pickle\n",
    "\n",
    "def initialiser_fichier():\n",
    " \n",
    "    utilisateurs = {\n",
    "        'admin': 'admin',\n",
    "        'user1': 'user1',\n",
    "        'user2': 'user2'\n",
    "    }\n",
    "\n",
    "    with open('Auth.txt', 'wb') as fichier:\n",
    "        pickle.dump(utilisateurs, fichier)\n",
    "\n",
    "\n",
    "def verifier(login, mot_de_passe):\n",
    "    \n",
    "    with open('Auth.txt', 'rb') as fichier:\n",
    "        utilisateurs = pickle.load(fichier)\n",
    "\n",
    "        return utilisateurs.get(login) == mot_de_passe\n",
    "\n",
    "\n",
    "def authentification():\n",
    "\n",
    "    login = input(\"Entrez votre login: \")\n",
    "    mot_de_passe = input(\"Entrez votre mot de passe: \")\n",
    "\n",
    "    tentatives = 3\n",
    "\n",
    "    while tentatives > 0:\n",
    "        #print(f\"{tentatives} tentatives restantes\")\n",
    "\n",
    "        login = input(\"Entrez votre login: \")\n",
    "        mot_de_passe = input(\"Entrez votre mot de passe: \")\n",
    "\n",
    "        if verifier(login, mot_de_passe):\n",
    "            print(\"Connexion réussie !\")\n",
    "            print(utilisateurs)\n",
    "            return\n",
    "        else:\n",
    "            tentatives -= 1\n",
    "            if tentatives == 0:\n",
    "                print(\"Trop d'essais incorrects. Veuillez réessayer plus tard.\")\n",
    "            else:\n",
    "                print(f\"Login ou mot de passe incorrect. {tentatives} tentatives restantes.\")\n",
    "    \n",
    "    # if verifier(login, mot_de_passe):\n",
    "    #     print(\"Connexion réussie !\")\n",
    "    #     print(utilisateurs)\n",
    "\n",
    "    #     return\n",
    "    # else:\n",
    "    #   \n",
    "    # print(\"Echec de la connexion !\")\n",
    "    #     return\n",
    "\n",
    "initialiser_fichier()\n",
    "authentification()"
   ]
  },
  {
   "cell_type": "code",
   "execution_count": 81,
   "metadata": {},
   "outputs": [
    {
     "name": "stdout",
     "output_type": "stream",
     "text": [
      "79\n"
     ]
    }
   ],
   "source": [
    "dico = {\n",
    "    \"Au\": {\n",
    "        \"Te/Tf\": 2970,\n",
    "        \"Z/A\": [79 , 196.967]\n",
    "    },\n",
    "\n",
    "    \"Ga\": {\n",
    "        \"Te/Tf\": 2237,\n",
    "        \"Z/A\": [31 , 69.72]\n",
    "    }\n",
    "}\n",
    "\n",
    "print(dico[\"Au\"][\"Z/A\"][0])\n"
   ]
  },
  {
   "cell_type": "code",
   "execution_count": null,
   "metadata": {},
   "outputs": [],
   "source": []
  }
 ],
 "metadata": {
  "kernelspec": {
   "display_name": "Python 3",
   "language": "python",
   "name": "python3"
  },
  "language_info": {
   "codemirror_mode": {
    "name": "ipython",
    "version": 3
   },
   "file_extension": ".py",
   "mimetype": "text/x-python",
   "name": "python",
   "nbconvert_exporter": "python",
   "pygments_lexer": "ipython3",
   "version": "3.10.2"
  }
 },
 "nbformat": 4,
 "nbformat_minor": 2
}
