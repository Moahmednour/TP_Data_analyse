{
 "cells": [
  {
   "cell_type": "markdown",
   "metadata": {},
   "source": [
    "\n",
    "Analyse des données : Pandas Exemples \n",
    "\n",
    "Exercice 1 :"
   ]
  },
  {
   "cell_type": "code",
   "execution_count": 44,
   "metadata": {},
   "outputs": [],
   "source": [
    "import pandas as pd\n",
    "import numpy as np\n",
    "import matplotlib.pyplot as plt"
   ]
  },
  {
   "cell_type": "code",
   "execution_count": 45,
   "metadata": {},
   "outputs": [
    {
     "name": "stdout",
     "output_type": "stream",
     "text": [
      "\n",
      "Q2:\n",
      "   A   B  C\n",
      "0  1  12  a\n",
      "1  2  14  a\n",
      "2  1  11  b\n",
      "3  4  16  a\n",
      "4  3  18  b\n",
      "5  5  18  c\n",
      "6  2  22  b\n",
      "7  3  13  a\n",
      "8  4  21  b\n",
      "9  1  17  a\n",
      "\n",
      "Q3:\n",
      "               A          B\n",
      "count  10.000000  10.000000\n",
      "mean    2.600000  16.200000\n",
      "std     1.429841   3.705851\n",
      "min     1.000000  11.000000\n",
      "25%     1.250000  13.250000\n",
      "50%     2.500000  16.500000\n",
      "75%     3.750000  18.000000\n",
      "max     5.000000  22.000000\n"
     ]
    }
   ],
   "source": [
    "\n",
    "# Création du DataFrame\n",
    "df = pd.DataFrame({'A': [1, 2, 1, 4, 3, 5, 2, 3, 4, 1],\n",
    "                   'B': [12, 14, 11, 16, 18, 18, 22, 13, 21, 17],\n",
    "                   'C': ['a', 'a', 'b', 'a', 'b', 'c', 'b', 'a', 'b', 'a']})\n",
    "\n",
    "print(\"\\nQ2:\")\n",
    "# Affichage du DataFrame\n",
    "print(df)\n",
    "\n",
    "print(\"\\nQ3:\")\n",
    "# Statistiques descriptives\n",
    "print(df.describe())\n"
   ]
  },
  {
   "cell_type": "code",
   "execution_count": 46,
   "metadata": {},
   "outputs": [
    {
     "name": "stdout",
     "output_type": "stream",
     "text": [
      "\n",
      "Q4:\n",
      "count     10\n",
      "unique     3\n",
      "top        a\n",
      "freq       5\n",
      "Name: C, dtype: object\n"
     ]
    }
   ],
   "source": [
    "print(\"\\nQ4:\")\n",
    "# Description de la colonne 'C'\n",
    "print(df['C'].describe())"
   ]
  },
  {
   "cell_type": "markdown",
   "metadata": {},
   "source": [
    "Exerxixe 2:"
   ]
  },
  {
   "cell_type": "code",
   "execution_count": 47,
   "metadata": {},
   "outputs": [],
   "source": [
    "import numpy as np\n",
    "import scipy as sp\n",
    "import pandas as pd\n",
    "import matplotlib as mpl\n",
    "import seaborn as sns"
   ]
  },
  {
   "cell_type": "code",
   "execution_count": 48,
   "metadata": {},
   "outputs": [],
   "source": [
    "#Importation data Frame Salaire\n",
    "salaires = pd.read_csv('Salaries.csv')"
   ]
  },
  {
   "cell_type": "code",
   "execution_count": 49,
   "metadata": {},
   "outputs": [
    {
     "name": "stdout",
     "output_type": "stream",
     "text": [
      "         rank discipline  phd  service     sex  salary\n",
      "0        Prof          B   56       49    Male  186960\n",
      "1        Prof          A   12        6    Male   93000\n",
      "2        Prof          A   23       20    Male  110515\n",
      "3        Prof          A   40       31    Male  131205\n",
      "4        Prof          B   20       18    Male  104800\n",
      "5        Prof          A   20       20    Male  122400\n",
      "6   AssocProf          A   20       17    Male   81285\n",
      "7        Prof          A   18       18    Male  126300\n",
      "8        Prof          A   29       19    Male   94350\n",
      "9        Prof          A   51       51    Male   57800\n",
      "10       Prof          B   39       33    Male  128250\n",
      "11       Prof          B   23       23    Male  134778\n",
      "12   AsstProf          B    1        0    Male   88000\n",
      "13       Prof          B   35       33    Male  162200\n",
      "14       Prof          B   25       19    Male  153750\n",
      "15       Prof          B   17        3    Male  150480\n",
      "16   AsstProf          B    8        3    Male   75044\n",
      "17   AsstProf          B    4        0    Male   92000\n",
      "18       Prof          A   19        7    Male  107300\n",
      "19       Prof          A   29       27    Male  150500\n",
      "20   AsstProf          B    4        4    Male   92000\n",
      "21       Prof          A   33       30    Male  103106\n",
      "22   AsstProf          A    4        2    Male   73000\n",
      "23   AsstProf          A    2        0    Male   85000\n",
      "24       Prof          A   30       23    Male   91100\n",
      "25       Prof          B   35       31    Male   99418\n",
      "26       Prof          A   38       19    Male  148750\n",
      "27       Prof          A   45       43    Male  155865\n",
      "28   AsstProf          B    7        2    Male   91300\n",
      "29       Prof          B   21       20    Male  123683\n",
      "30  AssocProf          B    9        7    Male  107008\n",
      "31       Prof          B   22       21    Male  155750\n",
      "32       Prof          A   27       19    Male  103275\n",
      "33       Prof          B   18       18    Male  120000\n",
      "34  AssocProf          B   12        8    Male  119800\n",
      "35       Prof          B   28       23    Male  126933\n",
      "36       Prof          B   45       45    Male  146856\n",
      "37       Prof          A   20        8    Male  102000\n",
      "38   AsstProf          B    4        3    Male   91000\n",
      "39       Prof          B   18       18  Female  129000\n",
      "40       Prof          A   39       36  Female  137000\n",
      "41  AssocProf          A   13        8  Female   74830\n",
      "42   AsstProf          B    4        2  Female   80225\n",
      "43   AsstProf          B    5        0  Female   77000\n",
      "44       Prof          B   23       19  Female  151768\n",
      "45       Prof          B   25       25  Female  140096\n",
      "46   AsstProf          B   11        3  Female   74692\n",
      "47  AssocProf          B   11       11  Female  103613\n",
      "48       Prof          B   17       17  Female  111512\n",
      "49       Prof          B   17       18  Female  122960\n"
     ]
    }
   ],
   "source": [
    "# Affichage des 50 premiers enregistrements\n",
    "print(salaires.head(50))"
   ]
  },
  {
   "cell_type": "code",
   "execution_count": 50,
   "metadata": {},
   "outputs": [
    {
     "name": "stdout",
     "output_type": "stream",
     "text": [
      "         rank discipline  phd  service     sex  salary\n",
      "68   AsstProf          A    4        2  Female   77500\n",
      "69       Prof          A   28        7  Female  116450\n",
      "70   AsstProf          A    8        3  Female   78500\n",
      "71  AssocProf          B   12        9  Female   71065\n",
      "72       Prof          B   24       15  Female  161101\n",
      "73       Prof          B   18       10  Female  105450\n",
      "74  AssocProf          B   19        6  Female  104542\n",
      "75       Prof          B   17       17  Female  124312\n",
      "76       Prof          A   28       14  Female  109954\n",
      "77       Prof          A   23       15  Female  109646\n"
     ]
    }
   ],
   "source": [
    "# Affichage des 10 derniers enregistrements\n",
    "print(salaires.tail(10))"
   ]
  },
  {
   "cell_type": "code",
   "execution_count": 51,
   "metadata": {},
   "outputs": [
    {
     "name": "stdout",
     "output_type": "stream",
     "text": [
      "int64\n",
      "**************************\n",
      "\n",
      "\n",
      "rank          object\n",
      "discipline    object\n",
      "phd            int64\n",
      "service        int64\n",
      "sex           object\n",
      "salary         int64\n",
      "dtype: object\n"
     ]
    }
   ],
   "source": [
    "# Type de la colonne 'salary'\n",
    "print(salaires['salary'].dtype)\n",
    "\n",
    "print(\"**************************\")\n",
    "print(\"\\n\")\n",
    "# Types de toutes les colonnes\n",
    "print(salaires.dtypes)\n"
   ]
  },
  {
   "cell_type": "code",
   "execution_count": 52,
   "metadata": {},
   "outputs": [
    {
     "name": "stdout",
     "output_type": "stream",
     "text": [
      "78\n",
      "**************************\n",
      "Index(['rank', 'discipline', 'phd', 'service', 'sex', 'salary'], dtype='object')\n"
     ]
    }
   ],
   "source": [
    "# Nombre d'enregistrements\n",
    "print(len(salaires))\n",
    "print(\"**************************\")\n",
    "# Noms des colonnes\n",
    "print(salaires.columns)\n",
    "\n"
   ]
  },
  {
   "cell_type": "code",
   "execution_count": 53,
   "metadata": {},
   "outputs": [
    {
     "name": "stdout",
     "output_type": "stream",
     "text": [
      "             phd    service         salary\n",
      "count  78.000000  78.000000      78.000000\n",
      "mean   19.705128  15.051282  108023.782051\n",
      "std    12.498425  12.139768   28293.661022\n",
      "min     1.000000   0.000000   57800.000000\n",
      "25%    10.250000   5.250000   88612.500000\n",
      "50%    18.500000  14.500000  104671.000000\n",
      "75%    27.750000  20.750000  126774.750000\n",
      "max    56.000000  51.000000  186960.000000\n",
      "**************************\n",
      "   discipline  salary\n",
      "0           B  186960\n",
      "1           A   93000\n",
      "2           A  110515\n",
      "3           A  131205\n",
      "4           B  104800\n",
      "..        ...     ...\n",
      "73          B  105450\n",
      "74          B  104542\n",
      "75          B  124312\n",
      "76          A  109954\n",
      "77          A  109646\n",
      "\n",
      "[78 rows x 2 columns]\n"
     ]
    }
   ],
   "source": [
    "# Description de toutes les données\n",
    "print(salaires.describe())\n",
    "print(\"**************************\")\n",
    "# Accès aux colonnes 'discipline' et 'salary'\n",
    "print(salaires[['discipline', 'salary']])\n",
    "\n"
   ]
  },
  {
   "cell_type": "code",
   "execution_count": 54,
   "metadata": {},
   "outputs": [
    {
     "name": "stdout",
     "output_type": "stream",
     "text": [
      "0    49\n",
      "1     6\n",
      "2    20\n",
      "3    31\n",
      "4    18\n",
      "Name: service, dtype: int64\n",
      "\n",
      "\n",
      "**************************\n",
      "service\n",
      "3     7\n",
      "19    6\n",
      "0     6\n",
      "18    5\n",
      "2     4\n",
      "7     4\n",
      "8     4\n",
      "6     3\n",
      "20    3\n",
      "10    3\n",
      "17    3\n",
      "23    3\n",
      "14    2\n",
      "11    2\n",
      "15    2\n",
      "27    2\n",
      "31    2\n",
      "33    2\n",
      "30    1\n",
      "51    1\n",
      "9     1\n",
      "24    1\n",
      "26    1\n",
      "1     1\n",
      "22    1\n",
      "5     1\n",
      "4     1\n",
      "25    1\n",
      "36    1\n",
      "45    1\n",
      "21    1\n",
      "43    1\n",
      "49    1\n",
      "Name: count, dtype: int64\n"
     ]
    }
   ],
   "source": [
    "#Affichage des 5 premières valeurs de la colonne 'service'\n",
    "print(salaires['service'].head(5))\n",
    "\n",
    "print(\"\\n\")\n",
    "print(\"**************************\")\n",
    "\n",
    "# Comptage de la colonne 'service'\n",
    "print(salaires['service'].value_counts())\n",
    "\n"
   ]
  },
  {
   "cell_type": "code",
   "execution_count": 55,
   "metadata": {},
   "outputs": [
    {
     "name": "stdout",
     "output_type": "stream",
     "text": [
      "        rank discipline  phd  service     sex  salary\n",
      "9       Prof          A   51       51    Male   57800\n",
      "0       Prof          B   56       49    Male  186960\n",
      "36      Prof          B   45       45    Male  146856\n",
      "27      Prof          A   45       43    Male  155865\n",
      "40      Prof          A   39       36  Female  137000\n",
      "..       ...        ...  ...      ...     ...     ...\n",
      "43  AsstProf          B    5        0  Female   77000\n",
      "23  AsstProf          A    2        0    Male   85000\n",
      "12  AsstProf          B    1        0    Male   88000\n",
      "17  AsstProf          B    4        0    Male   92000\n",
      "52      Prof          A   12        0  Female  105000\n",
      "\n",
      "[78 rows x 6 columns]\n",
      "\n",
      "\n",
      "**************************\n",
      "0     186960\n",
      "1      93000\n",
      "2     110515\n",
      "3     131205\n",
      "4     104800\n",
      "5     122400\n",
      "6      81285\n",
      "7     126300\n",
      "8      94350\n",
      "9      57800\n",
      "10    128250\n",
      "11    134778\n",
      "12     88000\n",
      "13    162200\n",
      "14    153750\n",
      "15    150480\n",
      "16     75044\n",
      "17     92000\n",
      "18    107300\n",
      "19    150500\n",
      "20     92000\n",
      "21    103106\n",
      "22     73000\n",
      "23     85000\n",
      "24     91100\n",
      "25     99418\n",
      "26    148750\n",
      "27    155865\n",
      "28     91300\n",
      "29    123683\n",
      "30    107008\n",
      "31    155750\n",
      "32    103275\n",
      "33    120000\n",
      "34    119800\n",
      "35    126933\n",
      "36    146856\n",
      "37    102000\n",
      "38     91000\n",
      "Name: salary, dtype: int64\n"
     ]
    }
   ],
   "source": [
    "# Tri par services (décroissant) puis par salaires (croissant)\n",
    "print(salaires.sort_values(by=['service', 'salary'], ascending=[False, True]))\n",
    "\n",
    "print(\"\\n\")\n",
    "print(\"**************************\")\n",
    "\n",
    "# Salaires des professeurs hommes\n",
    "print(salaires[salaires['sex'] == 'Male']['salary'])\n",
    "\n"
   ]
  },
  {
   "cell_type": "code",
   "execution_count": 56,
   "metadata": {},
   "outputs": [
    {
     "name": "stdout",
     "output_type": "stream",
     "text": [
      "rank       sex   \n",
      "AssocProf  Female     88512.800000\n",
      "           Male      102697.666667\n",
      "AsstProf   Female     78049.909091\n",
      "           Male       85918.000000\n",
      "Prof       Female    121967.611111\n",
      "           Male      124690.142857\n",
      "Name: salary, dtype: float64\n"
     ]
    }
   ],
   "source": [
    "# Tableau récapitulatif des moyennes des salaires par rang et par sexe\n",
    "print(salaires.groupby(['rank', 'sex'])['salary'].mean()) "
   ]
  },
  {
   "cell_type": "markdown",
   "metadata": {},
   "source": [
    "Exercice 3:"
   ]
  },
  {
   "cell_type": "code",
   "execution_count": 57,
   "metadata": {},
   "outputs": [
    {
     "name": "stdout",
     "output_type": "stream",
     "text": [
      "Q1:\n",
      "rank\n",
      "AssocProf    119800\n",
      "AsstProf      97032\n",
      "Prof         186960\n",
      "Name: salary, dtype: int64\n",
      "\n",
      "Q2:\n",
      "101002.41025641025\n",
      "\n",
      "Q3:\n",
      "98331.11111111111\n",
      "\n",
      "Q4:\n",
      "                        min     max\n",
      "rank      discipline               \n",
      "AssocProf A           62884   81285\n",
      "          B           71065  119800\n",
      "AsstProf  A           63100   85000\n",
      "          B           74692   97032\n",
      "Prof      A           57800  155865\n",
      "          B           99418  186960\n"
     ]
    }
   ],
   "source": [
    "print(\"Q1:\")\n",
    "# Max des salaires par Rank\n",
    "print(salaires.groupby('rank')['salary'].max())\n",
    "print(\"\\nQ2:\")\n",
    "# Moyenne des salaires pour les femmes\n",
    "print(salaires[salaires['sex'] == 'Female']['salary'].mean())\n",
    "print(\"\\nQ3:\")\n",
    "# Moyenne des salaires pour les profs de discipline 'A'\n",
    "print(salaires[salaires['discipline'] == 'A']['salary'].mean())\n",
    "print(\"\\nQ4:\")\n",
    "# Min et max des salaires par Rank et par discipline\n",
    "print(salaires.groupby(['rank', 'discipline'])['salary'].agg(['min', 'max']))\n"
   ]
  }
 ],
 "metadata": {
  "kernelspec": {
   "display_name": "base",
   "language": "python",
   "name": "python3"
  },
  "language_info": {
   "codemirror_mode": {
    "name": "ipython",
    "version": 3
   },
   "file_extension": ".py",
   "mimetype": "text/x-python",
   "name": "python",
   "nbconvert_exporter": "python",
   "pygments_lexer": "ipython3",
   "version": "3.11.5"
  }
 },
 "nbformat": 4,
 "nbformat_minor": 2
}
