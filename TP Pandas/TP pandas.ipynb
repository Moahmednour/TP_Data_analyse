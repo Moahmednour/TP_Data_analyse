{
 "cells": [
  {
   "cell_type": "code",
   "execution_count": 2,
   "metadata": {},
   "outputs": [],
   "source": [
    "import pandas as pd\n",
    "import numpy"
   ]
  },
  {
   "cell_type": "code",
   "execution_count": 3,
   "metadata": {},
   "outputs": [
    {
     "name": "stdout",
     "output_type": "stream",
     "text": [
      "pd version:  2.0.3\n"
     ]
    }
   ],
   "source": [
    "print('pd version: ',pd.__version__)\n",
    "df = pd.read_table(\"heart.txt\",sep = '\\t',header = 0)"
   ]
  },
  {
   "cell_type": "code",
   "execution_count": 4,
   "metadata": {},
   "outputs": [
    {
     "name": "stdout",
     "output_type": "stream",
     "text": [
      "(270, 13)\n",
      "    age      sexe type_douleur  pression  cholester sucre electro  taux_max  \\\n",
      "0    70  masculin            D       130        322     A       C       109   \n",
      "1    67   feminin            C       115        564     A       C       160   \n",
      "2    57  masculin            B       124        261     A       A       141   \n",
      "3    64  masculin            D       128        263     A       A       105   \n",
      "4    74   feminin            B       120        269     A       C       121   \n",
      "5    65  masculin            D       120        177     A       A       140   \n",
      "6    56  masculin            C       130        256     B       C       142   \n",
      "7    59  masculin            D       110        239     A       C       142   \n",
      "8    60  masculin            D       140        293     A       C       170   \n",
      "9    63   feminin            D       150        407     A       C       154   \n",
      "10   59  masculin            D       135        234     A       A       161   \n",
      "11   53  masculin            D       142        226     A       C       111   \n",
      "12   44  masculin            C       140        235     A       C       180   \n",
      "13   61  masculin            A       134        234     A       A       145   \n",
      "14   57   feminin            D       128        303     A       C       159   \n",
      "15   71   feminin            D       112        149     A       A       125   \n",
      "16   46  masculin            D       140        311     A       A       120   \n",
      "17   53  masculin            D       140        203     B       C       155   \n",
      "18   64  masculin            A       110        211     A       C       144   \n",
      "19   40  masculin            A       140        199     A       A       178   \n",
      "\n",
      "   angine  depression  pic vaisseau     coeur  \n",
      "0     non         2.4    2        D  presence  \n",
      "1     non         1.6    2        A   absence  \n",
      "2     non         0.3    1        A  presence  \n",
      "3     oui         0.2    2        B   absence  \n",
      "4     oui         0.2    1        B   absence  \n",
      "5     non         0.4    1        A   absence  \n",
      "6     oui         0.6    2        B  presence  \n",
      "7     oui         1.2    2        B  presence  \n",
      "8     non         1.2    2        C  presence  \n",
      "9     non         4.0    2        D  presence  \n",
      "10    non         0.5    2        A   absence  \n",
      "11    oui         0.0    1        A   absence  \n",
      "12    non         0.0    1        A   absence  \n",
      "13    non         2.6    2        C  presence  \n",
      "14    non         0.0    1        B   absence  \n",
      "15    non         1.6    2        A   absence  \n",
      "16    oui         1.8    2        C  presence  \n",
      "17    oui         3.1    3        A  presence  \n",
      "18    oui         1.8    2        A   absence  \n",
      "19    oui         1.4    1        A   absence  \n"
     ]
    }
   ],
   "source": [
    "print(df.shape)\n",
    "print(df.head(20))"
   ]
  },
  {
   "cell_type": "code",
   "execution_count": 5,
   "metadata": {},
   "outputs": [
    {
     "name": "stdout",
     "output_type": "stream",
     "text": [
      "Index(['age', 'sexe', 'type_douleur', 'pression', 'cholester', 'sucre',\n",
      "       'electro', 'taux_max', 'angine', 'depression', 'pic', 'vaisseau',\n",
      "       'coeur'],\n",
      "      dtype='object')\n"
     ]
    }
   ],
   "source": [
    "print(df.columns)"
   ]
  },
  {
   "cell_type": "code",
   "execution_count": 6,
   "metadata": {},
   "outputs": [
    {
     "name": "stdout",
     "output_type": "stream",
     "text": [
      "age               int64\n",
      "sexe             object\n",
      "type_douleur     object\n",
      "pression          int64\n",
      "cholester         int64\n",
      "sucre            object\n",
      "electro          object\n",
      "taux_max          int64\n",
      "angine           object\n",
      "depression      float64\n",
      "pic               int64\n",
      "vaisseau         object\n",
      "coeur            object\n",
      "dtype: object\n",
      "<class 'pandas.core.frame.DataFrame'>\n",
      "RangeIndex: 270 entries, 0 to 269\n",
      "Data columns (total 13 columns):\n",
      " #   Column        Non-Null Count  Dtype  \n",
      "---  ------        --------------  -----  \n",
      " 0   age           270 non-null    int64  \n",
      " 1   sexe          270 non-null    object \n",
      " 2   type_douleur  270 non-null    object \n",
      " 3   pression      270 non-null    int64  \n",
      " 4   cholester     270 non-null    int64  \n",
      " 5   sucre         270 non-null    object \n",
      " 6   electro       270 non-null    object \n",
      " 7   taux_max      270 non-null    int64  \n",
      " 8   angine        270 non-null    object \n",
      " 9   depression    270 non-null    float64\n",
      " 10  pic           270 non-null    int64  \n",
      " 11  vaisseau      270 non-null    object \n",
      " 12  coeur         270 non-null    object \n",
      "dtypes: float64(1), int64(5), object(7)\n",
      "memory usage: 27.6+ KB\n",
      "None\n"
     ]
    }
   ],
   "source": [
    "print(df.dtypes,)\n",
    "print(df.info())"
   ]
  },
  {
   "cell_type": "code",
   "execution_count": 7,
   "metadata": {},
   "outputs": [
    {
     "name": "stdout",
     "output_type": "stream",
     "text": [
      "               age      sexe type_douleur    pression   cholester sucre  \\\n",
      "count   270.000000       270          270  270.000000  270.000000   270   \n",
      "unique         NaN         2            4         NaN         NaN     2   \n",
      "top            NaN  masculin            D         NaN         NaN     A   \n",
      "freq           NaN       183          129         NaN         NaN   230   \n",
      "mean     54.433333       NaN          NaN  131.344444  249.659259   NaN   \n",
      "std       9.109067       NaN          NaN   17.861608   51.686237   NaN   \n",
      "min      29.000000       NaN          NaN   94.000000  126.000000   NaN   \n",
      "25%      48.000000       NaN          NaN  120.000000  213.000000   NaN   \n",
      "50%      55.000000       NaN          NaN  130.000000  245.000000   NaN   \n",
      "75%      61.000000       NaN          NaN  140.000000  280.000000   NaN   \n",
      "max      77.000000       NaN          NaN  200.000000  564.000000   NaN   \n",
      "\n",
      "       electro    taux_max angine  depression         pic vaisseau    coeur  \n",
      "count      270  270.000000    270   270.00000  270.000000      270      270  \n",
      "unique       3         NaN      2         NaN         NaN        4        2  \n",
      "top          C         NaN    non         NaN         NaN        A  absence  \n",
      "freq       137         NaN    181         NaN         NaN      160      150  \n",
      "mean       NaN  149.677778    NaN     1.05000    1.585185      NaN      NaN  \n",
      "std        NaN   23.165717    NaN     1.14521    0.614390      NaN      NaN  \n",
      "min        NaN   71.000000    NaN     0.00000    1.000000      NaN      NaN  \n",
      "25%        NaN  133.000000    NaN     0.00000    1.000000      NaN      NaN  \n",
      "50%        NaN  153.500000    NaN     0.80000    2.000000      NaN      NaN  \n",
      "75%        NaN  166.000000    NaN     1.60000    2.000000      NaN      NaN  \n",
      "max        NaN  202.000000    NaN     6.20000    3.000000      NaN      NaN  \n"
     ]
    }
   ],
   "source": [
    "print(df.describe(include='all'))"
   ]
  },
  {
   "cell_type": "code",
   "execution_count": 8,
   "metadata": {},
   "outputs": [
    {
     "name": "stdout",
     "output_type": "stream",
     "text": [
      "0      masculin\n",
      "1       feminin\n",
      "2      masculin\n",
      "3      masculin\n",
      "4       feminin\n",
      "         ...   \n",
      "265    masculin\n",
      "266    masculin\n",
      "267     feminin\n",
      "268    masculin\n",
      "269    masculin\n",
      "Name: sexe, Length: 270, dtype: object\n"
     ]
    }
   ],
   "source": [
    "print(df['sexe'])"
   ]
  },
  {
   "cell_type": "code",
   "execution_count": 9,
   "metadata": {},
   "outputs": [
    {
     "name": "stdout",
     "output_type": "stream",
     "text": [
      "0      masculin\n",
      "1       feminin\n",
      "2      masculin\n",
      "3      masculin\n",
      "4       feminin\n",
      "         ...   \n",
      "265    masculin\n",
      "266    masculin\n",
      "267     feminin\n",
      "268    masculin\n",
      "269    masculin\n",
      "Name: sexe, Length: 270, dtype: object\n"
     ]
    }
   ],
   "source": [
    "print(df.sexe)"
   ]
  },
  {
   "cell_type": "code",
   "execution_count": 10,
   "metadata": {},
   "outputs": [
    {
     "name": "stdout",
     "output_type": "stream",
     "text": [
      "         sexe sucre\n",
      "0    masculin     A\n",
      "1     feminin     A\n",
      "2    masculin     A\n",
      "3    masculin     A\n",
      "4     feminin     A\n",
      "..        ...   ...\n",
      "265  masculin     B\n",
      "266  masculin     A\n",
      "267   feminin     A\n",
      "268  masculin     A\n",
      "269  masculin     A\n",
      "\n",
      "[270 rows x 2 columns]\n"
     ]
    }
   ],
   "source": [
    "print(df[['sexe','sucre']])"
   ]
  },
  {
   "cell_type": "code",
   "execution_count": 11,
   "metadata": {},
   "outputs": [
    {
     "name": "stdout",
     "output_type": "stream",
     "text": [
      "0    70\n",
      "1    67\n",
      "2    57\n",
      "3    64\n",
      "4    74\n",
      "Name: age, dtype: int64\n"
     ]
    }
   ],
   "source": [
    "print(df['age'].head())"
   ]
  },
  {
   "cell_type": "code",
   "execution_count": 12,
   "metadata": {},
   "outputs": [
    {
     "name": "stdout",
     "output_type": "stream",
     "text": [
      "265    52\n",
      "266    44\n",
      "267    56\n",
      "268    57\n",
      "269    67\n",
      "Name: age, dtype: int64\n"
     ]
    }
   ],
   "source": [
    "print(df['age'].tail())"
   ]
  },
  {
   "cell_type": "code",
   "execution_count": 13,
   "metadata": {},
   "outputs": [
    {
     "name": "stdout",
     "output_type": "stream",
     "text": [
      "count    270.000000\n",
      "mean      54.433333\n",
      "std        9.109067\n",
      "min       29.000000\n",
      "25%       48.000000\n",
      "50%       55.000000\n",
      "75%       61.000000\n",
      "max       77.000000\n",
      "Name: age, dtype: float64\n"
     ]
    }
   ],
   "source": [
    "print(df['age'].describe())"
   ]
  },
  {
   "cell_type": "code",
   "execution_count": 14,
   "metadata": {},
   "outputs": [
    {
     "name": "stdout",
     "output_type": "stream",
     "text": [
      "54.43333333333333\n",
      "14697\n",
      "29\n",
      "77\n"
     ]
    }
   ],
   "source": [
    "#calculer explicitement la moyenne\n",
    "print(df['age'].mean())\n",
    "#sum\n",
    "print(df['age'].sum())\n",
    "#min\n",
    "print(df['age'].min())\n",
    "#max \n",
    "print(df['age'].max())"
   ]
  },
  {
   "cell_type": "code",
   "execution_count": 15,
   "metadata": {},
   "outputs": [
    {
     "name": "stdout",
     "output_type": "stream",
     "text": [
      "type_douleur\n",
      "D    129\n",
      "C     79\n",
      "B     42\n",
      "A     20\n",
      "Name: count, dtype: int64\n"
     ]
    }
   ],
   "source": [
    "print(df['type_douleur'].value_counts())"
   ]
  },
  {
   "cell_type": "code",
   "execution_count": 16,
   "metadata": {},
   "outputs": [
    {
     "name": "stdout",
     "output_type": "stream",
     "text": [
      "première valeur\n",
      "70\n",
      "3 premières valeurs\n",
      "0    70\n",
      "1    67\n",
      "2    57\n",
      "Name: age, dtype: int64\n",
      "0    70\n",
      "1    67\n",
      "2    57\n",
      "Name: age, dtype: int64\n"
     ]
    }
   ],
   "source": [
    "print(\"première valeur\")\n",
    "print(df['age'][0])\n",
    "print(\"3 premières valeurs\")\n",
    "print(df['age'][0:3])\n",
    "#ou bien donc\n",
    "print(df.age[0:3])"
   ]
  },
  {
   "cell_type": "code",
   "execution_count": 17,
   "metadata": {},
   "outputs": [
    {
     "name": "stdout",
     "output_type": "stream",
     "text": [
      "214    29\n",
      "174    34\n",
      "138    34\n",
      "224    35\n",
      "81     35\n",
      "       ..\n",
      "15     71\n",
      "255    71\n",
      "4      74\n",
      "73     76\n",
      "199    77\n",
      "Name: age, Length: 270, dtype: int64\n"
     ]
    }
   ],
   "source": [
    "print(df['age'].sort_values())"
   ]
  },
  {
   "cell_type": "code",
   "execution_count": 18,
   "metadata": {},
   "outputs": [
    {
     "name": "stdout",
     "output_type": "stream",
     "text": [
      "     age      sexe type_douleur  pression  cholester sucre electro  taux_max  \\\n",
      "214   29  masculin            B       130        204     A       C       202   \n",
      "174   34  masculin            A       118        182     A       C       174   \n",
      "138   34   feminin            B       118        210     A       A       192   \n",
      "224   35   feminin            D       138        183     A       A       182   \n",
      "81    35  masculin            D       120        198     A       A       130   \n",
      "\n",
      "    angine  depression  pic vaisseau     coeur  \n",
      "214    non         0.0    1        A   absence  \n",
      "174    non         0.0    1        A   absence  \n",
      "138    non         0.7    1        A   absence  \n",
      "224    non         1.4    1        A   absence  \n",
      "81     oui         1.6    2        A  presence  \n"
     ]
    }
   ],
   "source": [
    "print(df.sort_values(by='age').head())"
   ]
  },
  {
   "cell_type": "code",
   "execution_count": 19,
   "metadata": {},
   "outputs": [
    {
     "name": "stdout",
     "output_type": "stream",
     "text": [
      "int64\n",
      "object\n",
      "object\n",
      "int64\n",
      "int64\n",
      "object\n",
      "object\n",
      "int64\n",
      "object\n",
      "float64\n",
      "int64\n",
      "object\n",
      "object\n"
     ]
    }
   ],
   "source": [
    "for col in df.columns:\n",
    "    print(df[col].dtype)"
   ]
  },
  {
   "cell_type": "code",
   "execution_count": 20,
   "metadata": {},
   "outputs": [
    {
     "name": "stdout",
     "output_type": "stream",
     "text": [
      "age            54.433333\n",
      "pression      131.344444\n",
      "cholester     249.659259\n",
      "taux_max      149.677778\n",
      "depression      1.050000\n",
      "pic             1.585185\n",
      "dtype: float64\n"
     ]
    }
   ],
   "source": [
    "#fonction call back NUMPY\n",
    "def operation(x):\n",
    "    return(x.mean())\n",
    "\n",
    "#la selection select_dtypes() permet d'exclure les variables non numériques\n",
    "resultat = df.select_dtypes(exclude=['object']).apply(operation,axis=0)\n",
    "print(resultat)"
   ]
  },
  {
   "cell_type": "code",
   "execution_count": 21,
   "metadata": {},
   "outputs": [
    {
     "name": "stdout",
     "output_type": "stream",
     "text": [
      "70\n"
     ]
    }
   ],
   "source": [
    "#accès à la valeur située en (0,0)\n",
    "print(df.iloc[0,0])"
   ]
  },
  {
   "cell_type": "code",
   "execution_count": 22,
   "metadata": {},
   "outputs": [
    {
     "name": "stdout",
     "output_type": "stream",
     "text": [
      "67\n",
      "67\n"
     ]
    }
   ],
   "source": [
    "print(df.iloc[-1,0])\n",
    "#ou bien\n",
    "print(df.iloc[df.shape[0]-1,0])"
   ]
  },
  {
   "cell_type": "code",
   "execution_count": 23,
   "metadata": {},
   "outputs": [
    {
     "name": "stdout",
     "output_type": "stream",
     "text": [
      "   age      sexe type_douleur  pression  cholester sucre electro  taux_max  \\\n",
      "0   70  masculin            D       130        322     A       C       109   \n",
      "1   67   feminin            C       115        564     A       C       160   \n",
      "2   57  masculin            B       124        261     A       A       141   \n",
      "3   64  masculin            D       128        263     A       A       105   \n",
      "4   74   feminin            B       120        269     A       C       121   \n",
      "\n",
      "  angine  depression  pic vaisseau     coeur  \n",
      "0    non         2.4    2        D  presence  \n",
      "1    non         1.6    2        A   absence  \n",
      "2    non         0.3    1        A  presence  \n",
      "3    oui         0.2    2        B   absence  \n",
      "4    oui         0.2    1        B   absence  \n"
     ]
    }
   ],
   "source": [
    "#5 premières valeurs de toutes les colonnes\n",
    "#lignes => 0:5 (0 à 5 [non inclus])\n",
    "#colonnes = : (toutes les colonnes)\n",
    "print(df.iloc[0:5,:])"
   ]
  },
  {
   "cell_type": "code",
   "execution_count": 24,
   "metadata": {},
   "outputs": [
    {
     "name": "stdout",
     "output_type": "stream",
     "text": [
      "     age      sexe type_douleur  pression  cholester sucre electro  taux_max  \\\n",
      "265   52  masculin            C       172        199     B       A       162   \n",
      "266   44  masculin            B       120        263     A       A       173   \n",
      "267   56   feminin            B       140        294     A       C       153   \n",
      "268   57  masculin            D       140        192     A       A       148   \n",
      "269   67  masculin            D       160        286     A       C       108   \n",
      "\n",
      "    angine  depression  pic vaisseau     coeur  \n",
      "265    non         0.5    1        A   absence  \n",
      "266    non         0.0    1        A   absence  \n",
      "267    non         1.3    2        A   absence  \n",
      "268    non         0.4    2        A   absence  \n",
      "269    oui         1.5    2        D  presence  \n"
     ]
    }
   ],
   "source": [
    "#avec l'indiçage négatif, on peut facilement accéder aux 5 dernières lignes\n",
    "print(df.iloc[-5:,:])"
   ]
  },
  {
   "cell_type": "code",
   "execution_count": 25,
   "metadata": {},
   "outputs": [
    {
     "name": "stdout",
     "output_type": "stream",
     "text": [
      "   age type_douleur  cholester\n",
      "0   70            D        322\n",
      "1   67            C        564\n",
      "2   57            B        261\n",
      "3   64            D        263\n",
      "4   74            B        269\n"
     ]
    }
   ],
   "source": [
    "#5 premières lignes et colonnes 0, 1 et 4\n",
    "#on a une liste d'indices en colonne\n",
    "print(df.iloc[0:5,[0,2,4]])"
   ]
  },
  {
   "cell_type": "code",
   "execution_count": 26,
   "metadata": {},
   "outputs": [
    {
     "name": "stdout",
     "output_type": "stream",
     "text": [
      "   age type_douleur  cholester\n",
      "0   70            D        322\n",
      "1   67            C        564\n",
      "2   57            B        261\n",
      "3   64            D        263\n",
      "4   74            B        269\n"
     ]
    }
   ],
   "source": [
    "#ou encore, pour exactement la même chose\n",
    "#remarquez le rôle de 2 dans 0:5:2\n",
    "print(df.iloc[0:5,0:5:2])"
   ]
  },
  {
   "cell_type": "code",
   "execution_count": 27,
   "metadata": {},
   "outputs": [
    {
     "name": "stdout",
     "output_type": "stream",
     "text": [
      "     age      sexe type_douleur  pression  cholester sucre electro  taux_max  \\\n",
      "13    61  masculin            A       134        234     A       A       145   \n",
      "18    64  masculin            A       110        211     A       C       144   \n",
      "19    40  masculin            A       140        199     A       A       178   \n",
      "37    59  masculin            A       160        273     A       C       125   \n",
      "63    60   feminin            A       150        240     A       A       171   \n",
      "64    63  masculin            A       145        233     B       C       150   \n",
      "85    42  masculin            A       148        244     A       C       178   \n",
      "87    59  masculin            A       178        270     A       C       145   \n",
      "118   66   feminin            A       150        226     A       A       114   \n",
      "143   51  masculin            A       125        213     A       C       125   \n",
      "158   56  masculin            A       120        193     A       C       162   \n",
      "160   38  masculin            A       120        231     A       A       182   \n",
      "169   65  masculin            A       138        282     B       C       174   \n",
      "170   69  masculin            A       160        234     B       C       131   \n",
      "174   34  masculin            A       118        182     A       C       174   \n",
      "198   69   feminin            A       140        239     A       A       151   \n",
      "205   52  masculin            A       152        298     B       A       178   \n",
      "210   59  masculin            A       170        288     A       C       159   \n",
      "228   58   feminin            A       150        283     B       C       162   \n",
      "229   52  masculin            A       118        186     A       C       190   \n",
      "\n",
      "    angine  depression  pic vaisseau     coeur  \n",
      "13     non         2.6    2        C  presence  \n",
      "18     oui         1.8    2        A   absence  \n",
      "19     oui         1.4    1        A   absence  \n",
      "37     non         0.0    1        A  presence  \n",
      "63     non         0.9    1        A   absence  \n",
      "64     non         2.3    3        A   absence  \n",
      "85     non         0.8    1        C   absence  \n",
      "87     non         4.2    3        A   absence  \n",
      "118    non         2.6    3        A   absence  \n",
      "143    oui         1.4    1        B   absence  \n",
      "158    non         1.9    2        A   absence  \n",
      "160    oui         3.8    2        A  presence  \n",
      "169    non         1.4    2        B  presence  \n",
      "170    non         0.1    2        B   absence  \n",
      "174    non         0.0    1        A   absence  \n",
      "198    non         1.8    1        C   absence  \n",
      "205    non         1.2    2        A   absence  \n",
      "210    non         0.2    2        A  presence  \n",
      "228    non         1.0    1        A   absence  \n",
      "229    non         0.0    2        A   absence  \n"
     ]
    }
   ],
   "source": [
    "#liste des individus présentant une douleur de type A\n",
    "print(df.loc[df['type_douleur'] == \"A\",:])"
   ]
  },
  {
   "cell_type": "code",
   "execution_count": 28,
   "metadata": {},
   "outputs": [
    {
     "name": "stdout",
     "output_type": "stream",
     "text": [
      "0      False\n",
      "1      False\n",
      "2      False\n",
      "3      False\n",
      "4      False\n",
      "       ...  \n",
      "265    False\n",
      "266    False\n",
      "267    False\n",
      "268    False\n",
      "269    False\n",
      "Name: type_douleur, Length: 270, dtype: bool\n"
     ]
    }
   ],
   "source": [
    "print(df['type_douleur'] == \"A\")"
   ]
  },
  {
   "cell_type": "code",
   "execution_count": 29,
   "metadata": {},
   "outputs": [
    {
     "name": "stdout",
     "output_type": "stream",
     "text": [
      "type_douleur\n",
      "False    250\n",
      "True      20\n",
      "Name: count, dtype: int64\n"
     ]
    }
   ],
   "source": [
    "print ((df['type_douleur'] == \"A\").value_counts())"
   ]
  },
  {
   "cell_type": "code",
   "execution_count": 30,
   "metadata": {},
   "outputs": [
    {
     "name": "stdout",
     "output_type": "stream",
     "text": [
      "     age      sexe type_douleur  pression  cholester sucre electro  taux_max  \\\n",
      "2     57  masculin            B       124        261     A       A       141   \n",
      "4     74   feminin            B       120        269     A       C       121   \n",
      "13    61  masculin            A       134        234     A       A       145   \n",
      "18    64  masculin            A       110        211     A       C       144   \n",
      "19    40  masculin            A       140        199     A       A       178   \n",
      "..   ...       ...          ...       ...        ...   ...     ...       ...   \n",
      "262   58  masculin            B       120        284     A       C       160   \n",
      "263   49  masculin            B       130        266     A       A       171   \n",
      "264   48  masculin            B       110        229     A       A       168   \n",
      "266   44  masculin            B       120        263     A       A       173   \n",
      "267   56   feminin            B       140        294     A       C       153   \n",
      "\n",
      "    angine  depression  pic vaisseau     coeur  \n",
      "2      non         0.3    1        A  presence  \n",
      "4      oui         0.2    1        B   absence  \n",
      "13     non         2.6    2        C  presence  \n",
      "18     oui         1.8    2        A   absence  \n",
      "19     oui         1.4    1        A   absence  \n",
      "..     ...         ...  ...      ...       ...  \n",
      "262    non         1.8    2        A  presence  \n",
      "263    non         0.6    1        A   absence  \n",
      "264    non         1.0    3        A  presence  \n",
      "266    non         0.0    1        A   absence  \n",
      "267    non         1.3    2        A   absence  \n",
      "\n",
      "[62 rows x 13 columns]\n"
     ]
    }
   ],
   "source": [
    "#pour un ensemble de valeurs de la même variable,\n",
    "#nous utilisons isin()\n",
    "print(df.loc[df['type_douleur'].isin(['A','B']),:])\n"
   ]
  },
  {
   "cell_type": "code",
   "execution_count": 31,
   "metadata": {},
   "outputs": [
    {
     "name": "stdout",
     "output_type": "stream",
     "text": [
      "     age      sexe type_douleur  pression  cholester sucre electro  taux_max  \\\n",
      "18    64  masculin            A       110        211     A       C       144   \n",
      "19    40  masculin            A       140        199     A       A       178   \n",
      "143   51  masculin            A       125        213     A       C       125   \n",
      "160   38  masculin            A       120        231     A       A       182   \n",
      "\n",
      "    angine  depression  pic vaisseau     coeur  \n",
      "18     oui         1.8    2        A   absence  \n",
      "19     oui         1.4    1        A   absence  \n",
      "143    oui         1.4    1        B   absence  \n",
      "160    oui         3.8    2        A  presence  \n"
     ]
    }
   ],
   "source": [
    "#liste des individus présentant une douleur de type A et angine == oui\n",
    "print(df.loc[(df['type_douleur']== \"A\") & (df['angine'] == \"oui\"),:])"
   ]
  },
  {
   "cell_type": "code",
   "execution_count": 32,
   "metadata": {},
   "outputs": [
    {
     "name": "stdout",
     "output_type": "stream",
     "text": [
      "     age      sexe type_douleur  pression  cholester sucre electro  taux_max  \\\n",
      "40    40  masculin            D       152        223     A       A       181   \n",
      "47    44  masculin            D       110        197     A       C       177   \n",
      "50    42  masculin            D       136        315     A       A       125   \n",
      "81    35  masculin            D       120        198     A       A       130   \n",
      "147   40  masculin            D       110        167     A       C       114   \n",
      "160   38  masculin            A       120        231     A       A       182   \n",
      "182   41  masculin            D       110        172     A       C       158   \n",
      "193   35  masculin            D       126        282     A       C       156   \n",
      "231   39  masculin            D       118        219     A       A       140   \n",
      "237   43  masculin            D       120        177     A       C       120   \n",
      "252   44  masculin            D       112        290     A       C       153   \n",
      "\n",
      "    angine  depression  pic vaisseau     coeur  \n",
      "40     non         0.0    1        A  presence  \n",
      "47     non         0.0    1        B  presence  \n",
      "50     oui         1.8    2        A  presence  \n",
      "81     oui         1.6    2        A  presence  \n",
      "147    oui         2.0    2        A  presence  \n",
      "160    oui         3.8    2        A  presence  \n",
      "182    non         0.0    1        A  presence  \n",
      "193    oui         0.0    1        A  presence  \n",
      "231    non         1.2    2        A  presence  \n",
      "237    oui         2.5    2        A  presence  \n",
      "252    non         0.0    1        B  presence  \n"
     ]
    }
   ],
   "source": [
    "#liste des personnes de moins de 45 ans, de sexe masculin, présentant une maladie cardiaque\n",
    "print(df.loc[(df['age'] < 45) & (df['sexe'] == \"masculin\") & (df['coeur'] == \"presence\")])"
   ]
  },
  {
   "cell_type": "code",
   "execution_count": 33,
   "metadata": {},
   "outputs": [
    {
     "name": "stdout",
     "output_type": "stream",
     "text": [
      "     age      sexe     coeur  taux_max\n",
      "40    40  masculin  presence       181\n",
      "47    44  masculin  presence       177\n",
      "50    42  masculin  presence       125\n",
      "81    35  masculin  presence       130\n",
      "147   40  masculin  presence       114\n",
      "160   38  masculin  presence       182\n",
      "182   41  masculin  presence       158\n",
      "193   35  masculin  presence       156\n",
      "231   39  masculin  presence       140\n",
      "237   43  masculin  presence       120\n",
      "252   44  masculin  presence       153\n"
     ]
    }
   ],
   "source": [
    "#projection dans une liste \n",
    "colonnes = ['age','sexe','coeur','taux_max']\n",
    "\n",
    "print(df.loc[(df['age'] < 45) & (df['sexe'] == \"masculin\") & (df['coeur'] == \"presence\"),colonnes])"
   ]
  },
  {
   "cell_type": "code",
   "execution_count": 34,
   "metadata": {},
   "outputs": [
    {
     "name": "stdout",
     "output_type": "stream",
     "text": [
      "coeur     absence  presence\n",
      "sexe                       \n",
      "feminin        67        20\n",
      "masculin       83       100\n"
     ]
    }
   ],
   "source": [
    "#fréquences selon sexe et coeur - cela ressemnble à table() de R\n",
    "print(pd.crosstab(df['sexe'],df['coeur']))"
   ]
  },
  {
   "cell_type": "code",
   "execution_count": 35,
   "metadata": {},
   "outputs": [
    {
     "name": "stdout",
     "output_type": "stream",
     "text": [
      "coeur     absence  presence\n",
      "sexe                       \n",
      "feminin        67        20\n",
      "masculin       83       100\n"
     ]
    }
   ],
   "source": [
    "\n",
    "#nous pouvons demander un post-traitement, à la différence de table() de R\n",
    "#pourcentage en ligne\n",
    "print(pd.crosstab(df['sexe'],df['coeur']))"
   ]
  },
  {
   "cell_type": "code",
   "execution_count": 36,
   "metadata": {},
   "outputs": [
    {
     "name": "stdout",
     "output_type": "stream",
     "text": [
      "type_douleur         A         B         C         D\n",
      "sexe                                                \n",
      "feminin       0.045977  0.183908  0.367816  0.402299\n",
      "masculin      0.087432  0.142077  0.256831  0.513661\n",
      "coeur      absence  presence\n",
      "sexe                        \n",
      "feminin   0.770115  0.229885\n",
      "masculin  0.453552  0.546448\n"
     ]
    }
   ],
   "source": [
    "print(pd.crosstab(df['sexe'],df['type_douleur'],normalize='index'))\n",
    "print(pd.crosstab(df['sexe'],df['coeur'],normalize='index'))"
   ]
  },
  {
   "cell_type": "code",
   "execution_count": 41,
   "metadata": {},
   "outputs": [
    {
     "ename": "NameError",
     "evalue": "name 'pandas' is not defined",
     "output_type": "error",
     "traceback": [
      "\u001b[1;31m---------------------------------------------------------------------------\u001b[0m",
      "\u001b[1;31mNameError\u001b[0m                                 Traceback (most recent call last)",
      "Cell \u001b[1;32mIn[40], line 3\u001b[0m\n\u001b[0;32m      1\u001b[0m \u001b[38;5;66;03m#nous pouvons aussi insérer un champ calculé, comme avec les TCD d'Excel#ex. moyenne d'âge selon le sexe et la maladie\u001b[39;00m\n\u001b[0;32m      2\u001b[0m \u001b[38;5;66;03m#nous utilisons la fonction mean() de la classe Series de la librairie Pandas#cela nous rapproche plus des fonctions tapply() ou aggregate() de R\u001b[39;00m\n\u001b[1;32m----> 3\u001b[0m \u001b[38;5;28mprint\u001b[39m(pandas\u001b[38;5;241m.\u001b[39mcrosstab(df[\u001b[38;5;124m'\u001b[39m\u001b[38;5;124msexe\u001b[39m\u001b[38;5;124m'\u001b[39m],df[\u001b[38;5;124m'\u001b[39m\u001b[38;5;124mcoeur\u001b[39m\u001b[38;5;124m'\u001b[39m],values\u001b[38;5;241m=\u001b[39mdf[\u001b[38;5;124m'\u001b[39m\u001b[38;5;124mage\u001b[39m\u001b[38;5;124m'\u001b[39m],aggfunc\u001b[38;5;241m=\u001b[39mpandas\u001b[38;5;241m.\u001b[39mSeries\u001b[38;5;241m.\u001b[39mmean))\n",
      "\u001b[1;31mNameError\u001b[0m: name 'pandas' is not defined"
     ]
    }
   ],
   "source": [
    "#nous pouvons aussi insérer un champ calculé, comme avec les TCD d'Excel#ex. moyenne d'âge selon le sexe et la maladie\n",
    "#nous utilisons la fonction mean() de la classe Series de la librairie Pandas#cela nous rapproche plus des fonctions tapply() ou aggregate() de R\n",
    "print(pandas.crosstab(df['sexe'],df['coeur'],values=df['age'],aggfunc=pd.Series.mean))"
   ]
  },
  {
   "cell_type": "code",
   "execution_count": 39,
   "metadata": {},
   "outputs": [
    {
     "name": "stdout",
     "output_type": "stream",
     "text": [
      "                age         \n",
      "coeur       absence presence\n",
      "sexe                        \n",
      "feminin   54.582090    59.35\n",
      "masculin  51.192771    56.04\n"
     ]
    }
   ],
   "source": [
    "#une autre manière de faire avec la commande pivot_table()#pour exactement le même résultat\n",
    "print(df.pivot_table(index=['sexe'],columns=['coeur'],values=['age'],aggfunc=pd.Series.mean))"
   ]
  }
 ],
 "metadata": {
  "kernelspec": {
   "display_name": "base",
   "language": "python",
   "name": "python3"
  },
  "language_info": {
   "codemirror_mode": {
    "name": "ipython",
    "version": 3
   },
   "file_extension": ".py",
   "mimetype": "text/x-python",
   "name": "python",
   "nbconvert_exporter": "python",
   "pygments_lexer": "ipython3",
   "version": "3.11.5"
  }
 },
 "nbformat": 4,
 "nbformat_minor": 2
}
