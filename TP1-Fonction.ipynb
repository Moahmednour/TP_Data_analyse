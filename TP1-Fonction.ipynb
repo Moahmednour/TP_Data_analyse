{
 "cells": [
  {
   "cell_type": "markdown",
   "metadata": {},
   "source": [
    "Exercice 5 Logic"
   ]
  },
  {
   "cell_type": "code",
   "execution_count": 19,
   "metadata": {},
   "outputs": [
    {
     "name": "stdout",
     "output_type": "stream",
     "text": [
      "True\n",
      "False\n"
     ]
    }
   ],
   "source": [
    "def est_palyndrome(mot):\n",
    "\n",
    "    liste_caracteres_mot = list(mot)\n",
    "    liste_inverse = liste_caracteres_mot[::-1]\n",
    "    mot_inverse = \"\".join(liste_inverse)\n",
    "\n",
    "    return mot == mot_inverse\n",
    "\n",
    "print(est_palyndrome(\"sradars\"))  \n",
    "print(est_palyndrome(\"python\"))   "
   ]
  },
  {
   "cell_type": "markdown",
   "metadata": {},
   "source": [
    "Exercice 5 avec Input"
   ]
  },
  {
   "cell_type": "code",
   "execution_count": 4,
   "metadata": {},
   "outputs": [
    {
     "ename": "IndentationError",
     "evalue": "unexpected indent (226443791.py, line 8)",
     "output_type": "error",
     "traceback": [
      "\u001b[1;36m  Input \u001b[1;32mIn [4]\u001b[1;36m\u001b[0m\n\u001b[1;33m    return chaine == chaine_inverse\u001b[0m\n\u001b[1;37m    ^\u001b[0m\n\u001b[1;31mIndentationError\u001b[0m\u001b[1;31m:\u001b[0m unexpected indent\n"
     ]
    }
   ],
   "source": [
    "def est_palindrome(chaine):\n",
    "    \n",
    "    chaine = chaine.replace(\" \", \"\").lower()  \n",
    "    liste_caracteres_mot = list(chaine)\n",
    "    liste_inverse = liste_caracteres_mot[::-1]\n",
    "    chaine_inverse = \"\".join(liste_inverse)\n",
    "\n",
    "    return chaine == chaine_inverse\n",
    "   \n",
    "mot = input(\"Veuillez saisir un mot pour vérifier s'il est un palindrome : \")\n",
    "\n",
    "if est_palindrome(mot):\n",
    "    print(f\"'{mot.lower()}' est un palindrome.\")\n",
    "else:\n",
    "    print(f\"'{mot.lower()}' n'est pas un palindrome.\")\n"
   ]
  },
  {
   "cell_type": "markdown",
   "metadata": {},
   "source": [
    "Exercice 6"
   ]
  },
  {
   "cell_type": "code",
   "execution_count": 55,
   "metadata": {},
   "outputs": [
    {
     "name": "stdout",
     "output_type": "stream",
     "text": [
      "les nbrs est 2\n",
      "tot\n",
      "ici\n"
     ]
    }
   ],
   "source": [
    "def is_palindrome(mot):\n",
    "    return mot == mot[::-1]\n",
    "\n",
    "def palindromes(filename):\n",
    "    with open(filename, 'r') as f:\n",
    "        text = f.readlines()\n",
    "        palindromes = [mot.replace(\"\\n\",\"\") \n",
    "        for mot in text\n",
    "         if is_palindrome(mot.replace(\"\\n\",\"\"))]\n",
    "    return palindromes\n",
    "\n",
    "if __name__ == '__main__':\n",
    "    palindromes = palindromes(\"dico.txt\")\n",
    "\n",
    "    print(\"les nbrs est\",len(palindromes))\n",
    "for palindrome in palindromes:\n",
    "    print(palindrome)"
   ]
  },
  {
   "cell_type": "markdown",
   "metadata": {},
   "source": [
    "Exercice 7"
   ]
  },
  {
   "cell_type": "code",
   "execution_count": 3,
   "metadata": {},
   "outputs": [
    {
     "name": "stdout",
     "output_type": "stream",
     "text": [
      "ADN principal : gagatatacaca\n",
      "Séquence à vérifier: ca\n",
      "La séquence \"ca\" est présente dans 16.67% de l'ADN principal.\n"
     ]
    }
   ],
   "source": [
    "def adn_valide(chaine_adn):\n",
    "    bases_valides = ['a', 't', 'g', 'c']\n",
    "    return all(base in bases_valides for base in chaine_adn) and len(chaine_adn) > 0\n",
    "\n",
    "def value_input(prompt):\n",
    "    while True:\n",
    "        input_adn = input(prompt).lower()\n",
    "        if adn_valide(input_adn):\n",
    "            return input_adn\n",
    "        else:\n",
    "            print(\"ADN invalide. Seules les lettres 'a', 't', 'g', et 'c' sont autorisées.\")\n",
    "\n",
    "def calculer_proportion(adn_principal, sequence):\n",
    "    if len(sequence) == 0:\n",
    "        return 0\n",
    "    return adn_principal.count(sequence) / len(adn_principal) * 100\n",
    "\n",
    "\n",
    "if __name__ == '__main__':\n",
    "    adn_principal = value_input(\"Entrez une chaîne d'ADN valide: \")\n",
    "    sequence_a_verifier = value_input(\"Entrez une séquence d'ADN à vérifier: \")\n",
    "\n",
    "    print(f\"ADN principal : {adn_principal}\")\n",
    "    print(f\"Séquence à vérifier: {sequence_a_verifier}\")\n",
    "\n",
    "    valeur_proportion = calculer_proportion(adn_principal, sequence_a_verifier)\n",
    "    print(f\"La séquence \\\"{sequence_a_verifier}\\\" est présente dans {valeur_proportion:.2f}% de l'ADN principal.\")\n"
   ]
  }
 ],
 "metadata": {
  "kernelspec": {
   "display_name": "Python 3",
   "language": "python",
   "name": "python3"
  },
  "language_info": {
   "codemirror_mode": {
    "name": "ipython",
    "version": 3
   },
   "file_extension": ".py",
   "mimetype": "text/x-python",
   "name": "python",
   "nbconvert_exporter": "python",
   "pygments_lexer": "ipython3",
   "version": "3.10.2"
  }
 },
 "nbformat": 4,
 "nbformat_minor": 2
}
